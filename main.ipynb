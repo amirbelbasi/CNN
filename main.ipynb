{
 "cells": [
  {
   "cell_type": "code",
   "execution_count": null,
   "id": "f3b72840",
   "metadata": {},
   "outputs": [],
   "source": [
    "import cv2 as cv\n",
    "import numpy as np\n",
    "import os\n",
    "from tensorflow.keras.preprocessing.image import ImageDataGenerator\n",
    "from tensorflow.keras.optimizers import Adam\n",
    "from tensorflow.keras.callbacks import EarlyStopping, ModelCheckpoint, ReduceLROnPlateau\n",
    "from tensorflow.keras.applications.resnet50 import preprocess_input\n",
    "from tensorflow.keras.models import Sequential, load_model\n",
    "from tensorflow.keras.layers import Conv2D, BatchNormalization, Dense, MaxPooling2D, Dropout, Flatten, GlobalAveragePooling2D\n",
    "from matplotlib.image import imread\n",
    "import matplotlib.pyplot as plt\n",
    "import random\n",
    "from resnet50 import ResNet50"
   ]
  },
  {
   "cell_type": "code",
   "execution_count": null,
   "id": "ab343565",
   "metadata": {},
   "outputs": [],
   "source": [
    "training_dir = \"./data/chest-ctscan-images/train\"\n",
    "validation_dir = \"./data/chest-ctscan-images/valid\"\n",
    "testing_dir = \"./data/chest-ctscan-images/test\""
   ]
  },
  {
   "cell_type": "code",
   "execution_count": null,
   "id": "72ade536",
   "metadata": {},
   "outputs": [],
   "source": [
    "def display_random_images(directory_path):\n",
    "    image_files = os.listdir(directory_path)\n",
    "    fig, ax = plt.subplots(2, 5, figsize=(12, 4))\n",
    "\n",
    "    for i in range(2):\n",
    "        for j in range(5):\n",
    "            img_path = os.path.join(directory_path, random.choice(image_files))\n",
    "            image = imread(img_path)\n",
    "            ax[i, j].imshow(image, cmap=\"gray\")\n",
    "            ax[i, j].axis('off')\n",
    "\n",
    "    plt.show()\n",
    "\n",
    "train_images_path = training_dir + '/normal'\n",
    "display_random_images(train_images_path)"
   ]
  },
  {
   "cell_type": "markdown",
   "id": "a881f372",
   "metadata": {},
   "source": [
    "# Image augmentation"
   ]
  },
  {
   "cell_type": "code",
   "execution_count": null,
   "id": "12e8fc09",
   "metadata": {},
   "outputs": [],
   "source": [
    "INPUT_SHAPE = (224, 224, 3)\n",
    "NUM_CLASSES = 4\n",
    "\n",
    "train_data_augmentor = ImageDataGenerator(rotation_range=10,\n",
    "                                          width_shift_range=0.2,\n",
    "                                          height_shift_range=0.2,\n",
    "                                          shear_range=0.2,\n",
    "                                          zoom_range=0.2,\n",
    "                                          horizontal_flip=True,\n",
    "                                          vertical_flip=False,\n",
    "                                          preprocessing_function=preprocess_input,\n",
    "                                          dtype=\"float32\")\n",
    "\n",
    "test_data_augmentor = ImageDataGenerator(preprocessing_function=preprocess_input,\n",
    "                                        dtype=\"float32\")\n",
    "\n",
    "val_data_augmentor = ImageDataGenerator(preprocessing_function=preprocess_input,\n",
    "                                        dtype=\"float32\")"
   ]
  },
  {
   "cell_type": "code",
   "execution_count": null,
   "id": "1eef8843",
   "metadata": {},
   "outputs": [],
   "source": [
    "train_data = train_data_augmentor.flow_from_directory(training_dir,\n",
    "                                                      target_size=(224, 224),\n",
    "                                                      batch_size=32,\n",
    "                                                      class_mode=\"categorical\")\n",
    "\n",
    "test_data = test_data_augmentor.flow_from_directory(testing_dir,\n",
    "                                                    target_size=(224, 224),\n",
    "                                                    batch_size=32,\n",
    "                                                    class_mode=\"categorical\")\n",
    "\n",
    "val_data = val_data_augmentor.flow_from_directory(validation_dir,\n",
    "                                                  target_size=(224, 224),\n",
    "                                                  batch_size=32,\n",
    "                                                  class_mode=\"categorical\")"
   ]
  },
  {
   "cell_type": "code",
   "execution_count": null,
   "id": "fe0fbe87",
   "metadata": {},
   "outputs": [],
   "source": [
    "train_data.class_indices"
   ]
  },
  {
   "cell_type": "markdown",
   "id": "ede6ee44",
   "metadata": {},
   "source": [
    "#  Resnet model"
   ]
  },
  {
   "cell_type": "code",
   "execution_count": null,
   "id": "04b5bde1",
   "metadata": {
    "scrolled": true
   },
   "outputs": [],
   "source": [
    "resnet_model = ResNet50(input_shape=(224, 224, 3), include_top=False, weights=\"imagenet\")\n",
    "resnet_model.summary()"
   ]
  },
  {
   "cell_type": "markdown",
   "id": "89b15ef3",
   "metadata": {},
   "source": [
    "# Transfer learning"
   ]
  },
  {
   "cell_type": "code",
   "execution_count": null,
   "id": "bfa438e4",
   "metadata": {},
   "outputs": [],
   "source": [
    "for layer in resnet_model.layers:\n",
    "    layer.trainable = False\n",
    "\n",
    "custom_model = Sequential()\n",
    "custom_model.add(resnet_model)\n",
    "custom_model.add(BatchNormalization())\n",
    "custom_model.add(MaxPooling2D(pool_size=(2, 2)))\n",
    "custom_model.add(Dropout(0.3))\n",
    "custom_model.add(Flatten())\n",
    "custom_model.add(Dense(1024, activation=\"relu\"))\n",
    "custom_model.add(Dropout(0.3))\n",
    "custom_model.add(Dense(512, activation=\"relu\"))\n",
    "custom_model.add(Dropout(0.3))\n",
    "custom_model.add(Dense(256, activation=\"relu\"))\n",
    "custom_model.add(Dropout(0.3))\n",
    "custom_model.add(Dense(NUM_CLASSES, activation='softmax'))\n",
    "custom_model.summary()"
   ]
  },
  {
   "cell_type": "markdown",
   "id": "c6cd9d46",
   "metadata": {},
   "source": [
    "# Compiling the model"
   ]
  },
  {
   "cell_type": "code",
   "execution_count": null,
   "id": "12efbcb7",
   "metadata": {},
   "outputs": [],
   "source": [
    "optimizer = Adam(learning_rate=0.001)\n",
    "custom_model.compile(optimizer=optimizer, loss=\"categorical_crossentropy\", metrics=[\"accuracy\"])"
   ]
  },
  {
   "cell_type": "markdown",
   "id": "a3fbd4ed",
   "metadata": {},
   "source": [
    "# Training the model"
   ]
  },
  {
   "cell_type": "code",
   "execution_count": null,
   "id": "88bde723",
   "metadata": {
    "scrolled": true
   },
   "outputs": [],
   "source": [
    "model_checkpoint = ModelCheckpoint(\n",
    "    filepath=\"ct_resnet_best_model.hdf5\",\n",
    "    monitor=\"val_accuracy\",\n",
    "    save_best_only=True,\n",
    "    mode='max'\n",
    ")\n",
    "\n",
    "early_stopping = EarlyStopping(\n",
    "    monitor='val_accuracy',\n",
    "    patience=10,\n",
    "    restore_best_weights=True\n",
    ")\n",
    "\n",
    "reduce_lr = ReduceLROnPlateau(\n",
    "    monitor='val_accuracy',\n",
    "    factor=0.1,\n",
    "    patience=5,\n",
    "    verbose=1,\n",
    "    min_delta=0.8\n",
    ")\n",
    "\n",
    "training_history = custom_model.fit(\n",
    "    train_data,\n",
    "    validation_data=val_data,\n",
    "    epochs=50,\n",
    "    batch_size=32,\n",
    "    callbacks=[model_checkpoint, early_stopping, reduce_lr]\n",
    ")"
   ]
  },
  {
   "cell_type": "code",
   "execution_count": null,
   "id": "acf10223",
   "metadata": {},
   "outputs": [],
   "source": [
    "plt.plot(training_history.history['accuracy'])\n",
    "plt.plot(training_history.history['val_accuracy'])\n",
    "plt.xlabel('epochs')\n",
    "plt.ylabel('accuracy')\n",
    "plt.show()"
   ]
  },
  {
   "cell_type": "markdown",
   "id": "f5d7760c",
   "metadata": {},
   "source": [
    "# Test "
   ]
  },
  {
   "cell_type": "code",
   "execution_count": null,
   "id": "b4b6ad99",
   "metadata": {},
   "outputs": [],
   "source": [
    "saved_model = load_model(\"ct_resnet_best_model.hdf5\")\n",
    "test_scores = saved_model.evaluate(test_data, verbose=1)\n",
    "\n",
    "print(\"Test loss:\", test_scores[0])\n",
    "print(\"Test accuracy:\", test_scores[1])"
   ]
  }
 ],
 "metadata": {
  "kernelspec": {
   "display_name": "Python 3 (ipykernel)",
   "language": "python",
   "name": "python3"
  },
  "language_info": {
   "codemirror_mode": {
    "name": "ipython",
    "version": 3
   },
   "file_extension": ".py",
   "mimetype": "text/x-python",
   "name": "python",
   "nbconvert_exporter": "python",
   "pygments_lexer": "ipython3",
   "version": "3.9.13"
  }
 },
 "nbformat": 4,
 "nbformat_minor": 5
}
